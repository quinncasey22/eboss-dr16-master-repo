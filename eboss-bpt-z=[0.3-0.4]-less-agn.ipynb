{
 "cells": [
  {
   "cell_type": "code",
   "execution_count": 1,
   "metadata": {},
   "outputs": [],
   "source": [
    "import matplotlib\n",
    "import numpy as np\n",
    "from astropy.io import fits\n",
    "import matplotlib.pyplot as plt\n",
    "import pandas as pd\n",
    "from matplotlib import colors as mcolors\n",
    "from matplotlib.legend import Legend\n",
    "import matplotlib.patches as mpatches\n",
    "import matplotlib.lines as mlines"
   ]
  },
  {
   "cell_type": "code",
   "execution_count": 2,
   "metadata": {},
   "outputs": [],
   "source": [
    "from astropy.cosmology import FlatLambdaCDM\n",
    "cosmo = FlatLambdaCDM(H0=70, Om0=0.3)\n",
    "import astropy.units as u\n",
    "import statistics as stats"
   ]
  },
  {
   "cell_type": "code",
   "execution_count": 3,
   "metadata": {},
   "outputs": [],
   "source": [
    "colors = dict(mcolors.BASE_COLORS, **mcolors.CSS4_COLORS)"
   ]
  },
  {
   "cell_type": "code",
   "execution_count": 4,
   "metadata": {},
   "outputs": [],
   "source": [
    "#read in eBOSS file\n",
    "hdu = fits.open('/Users/quinncasey/Desktop/research/eboss/spLine_trim_dr16_eboss.fits')"
   ]
  },
  {
   "cell_type": "code",
   "execution_count": 5,
   "metadata": {},
   "outputs": [
    {
     "data": {
      "text/plain": [
       "XTENSION= 'BINTABLE'           /Binary table written by MWRFITS v1.11           \n",
       "BITPIX  =                    8 /Required value                                  \n",
       "NAXIS   =                    2 /Required value                                  \n",
       "NAXIS1  =                  336 /Number of bytes per row                         \n",
       "NAXIS2  =              1910807 /Number of rows                                  \n",
       "PCOUNT  =                    0 /Normally 0 (no varying arrays)                  \n",
       "GCOUNT  =                    1 /Required value                                  \n",
       "TFIELDS =                   82 /Number of columns in table                      \n",
       "COMMENT                                                                         \n",
       "COMMENT  *** End of mandatory fields ***                                        \n",
       "COMMENT                                                                         \n",
       "COMMENT                                                                         \n",
       "COMMENT  *** Column names ***                                                   \n",
       "COMMENT                                                                         \n",
       "TTYPE1  = 'PLATE   '           /                                                \n",
       "TTYPE2  = 'MJD     '           /                                                \n",
       "TTYPE3  = 'FIBER   '           /                                                \n",
       "TTYPE4  = 'Z       '           /                                                \n",
       "TTYPE5  = 'RA      '           /                                                \n",
       "TTYPE6  = 'DEC     '           /                                                \n",
       "TTYPE7  = 'LY_ALPHA_FLUX'      /                                                \n",
       "TTYPE8  = 'LY_ALPHA_FLUX_ERR'  /                                                \n",
       "TTYPE9  = 'LY_ALPHA_EW'        /                                                \n",
       "TTYPE10 = 'LY_ALPHA_EW_ERR'    /                                                \n",
       "TTYPE11 = 'NV_1240_FLUX'       /                                                \n",
       "TTYPE12 = 'NV_1240_FLUX_ERR'   /                                                \n",
       "TTYPE13 = 'NV_1240_EW'         /                                                \n",
       "TTYPE14 = 'NV_1240_EW_ERR'     /                                                \n",
       "TTYPE15 = 'CIV_1550_FLUX'      /                                                \n",
       "TTYPE16 = 'CIV_1550_FLUX_ERR'  /                                                \n",
       "TTYPE17 = 'CIV_1550_EW'        /                                                \n",
       "TTYPE18 = 'CIV_1550_EW_ERR'    /                                                \n",
       "TTYPE19 = 'HEII_1640_FLUX'     /                                                \n",
       "TTYPE20 = 'HEII_1640_FLUX_ERR' /                                                \n",
       "TTYPE21 = 'HEII_1640_EW'       /                                                \n",
       "TTYPE22 = 'HEII_1640_EW_ERR'   /                                                \n",
       "TTYPE23 = 'CIII_1909_FLUX'     /                                                \n",
       "TTYPE24 = 'CIII_1909_FLUX_ERR' /                                                \n",
       "TTYPE25 = 'CIII_1909_EW'       /                                                \n",
       "TTYPE26 = 'CIII_1909_EW_ERR'   /                                                \n",
       "TTYPE27 = 'MGII_2800_FLUX'     /                                                \n",
       "TTYPE28 = 'MGII_2800_FLUX_ERR' /                                                \n",
       "TTYPE29 = 'MGII_2800_EW'       /                                                \n",
       "TTYPE30 = 'MGII_2800_EW_ERR'   /                                                \n",
       "TTYPE31 = 'OII_3727_FLUX'      /                                                \n",
       "TTYPE32 = 'OII_3727_FLUX_ERR'  /                                                \n",
       "TTYPE33 = 'OII_3727_EW'        /                                                \n",
       "TTYPE34 = 'OII_3727_EW_ERR'    /                                                \n",
       "TTYPE35 = 'NEIII_3869_FLUX'    /                                                \n",
       "TTYPE36 = 'NEIII_3869_FLUX_ERR' /                                               \n",
       "TTYPE37 = 'NEIII_3869_EW'      /                                                \n",
       "TTYPE38 = 'NEIII_3869_EW_ERR'  /                                                \n",
       "TTYPE39 = 'H_EPSILON_FLUX'     /                                                \n",
       "TTYPE40 = 'H_EPSILON_FLUX_ERR' /                                                \n",
       "TTYPE41 = 'H_EPSILON_EW'       /                                                \n",
       "TTYPE42 = 'H_EPSILON_EW_ERR'   /                                                \n",
       "TTYPE43 = 'H_GAMMA_FLUX'       /                                                \n",
       "TTYPE44 = 'H_GAMMA_FLUX_ERR'   /                                                \n",
       "TTYPE45 = 'H_GAMMA_EW'         /                                                \n",
       "TTYPE46 = 'H_GAMMA_EW_ERR'     /                                                \n",
       "TTYPE47 = 'OIII_4363_FLUX'     /                                                \n",
       "TTYPE48 = 'OIII_4363_FLUX_ERR' /                                                \n",
       "TTYPE49 = 'OIII_4363_EW'       /                                                \n",
       "TTYPE50 = 'OIII_4363_EW_ERR'   /                                                \n",
       "TTYPE51 = 'H_BETA_FLUX'        /                                                \n",
       "TTYPE52 = 'H_BETA_FLUX_ERR'    /                                                \n",
       "TTYPE53 = 'H_BETA_EW'          /                                                \n",
       "TTYPE54 = 'H_BETA_EW_ERR'      /                                                \n",
       "TTYPE55 = 'OIII_4959_FLUX'     /                                                \n",
       "TTYPE56 = 'OIII_4959_FLUX_ERR' /                                                \n",
       "TTYPE57 = 'OIII_4959_EW'       /                                                \n",
       "TTYPE58 = 'OIII_4959_EW_ERR'   /                                                \n",
       "TTYPE59 = 'OIII_5007_FLUX'     /                                                \n",
       "TTYPE60 = 'OIII_5007_FLUX_ERR' /                                                \n",
       "TTYPE61 = 'OIII_5007_EW'       /                                                \n",
       "TTYPE62 = 'OIII_5007_EW_ERR'   /                                                \n",
       "TTYPE63 = 'OIII_5007_SIGMA'    /                                                \n",
       "TTYPE64 = 'OIII_5007_SIGMA_ERR' /                                               \n",
       "TTYPE65 = 'H_ALPHA_FLUX'       /                                                \n",
       "TTYPE66 = 'H_ALPHA_FLUX_ERR'   /                                                \n",
       "TTYPE67 = 'H_ALPHA_EW'         /                                                \n",
       "TTYPE68 = 'H_ALPHA_EW_ERR'     /                                                \n",
       "TTYPE69 = 'H_ALPHA_SIGMA'      /                                                \n",
       "TTYPE70 = 'H_ALPHA_SIGMA_ERR'  /                                                \n",
       "TTYPE71 = 'NII_6584_FLUX'      /                                                \n",
       "TTYPE72 = 'NII_6584_FLUX_ERR'  /                                                \n",
       "TTYPE73 = 'NII_6584_EW'        /                                                \n",
       "TTYPE74 = 'NII_6584_EW_ERR'    /                                                \n",
       "TTYPE75 = 'SII_6717_FLUX'      /                                                \n",
       "TTYPE76 = 'SII_6717_FLUX_ERR'  /                                                \n",
       "TTYPE77 = 'SII_6717_EW'        /                                                \n",
       "TTYPE78 = 'SII_6717_EW_ERR'    /                                                \n",
       "TTYPE79 = 'SII_6731_FLUX'      /                                                \n",
       "TTYPE80 = 'SII_6731_FLUX_ERR'  /                                                \n",
       "TTYPE81 = 'SII_6731_EW'        /                                                \n",
       "TTYPE82 = 'SII_6731_EW_ERR'    /                                                \n",
       "COMMENT                                                                         \n",
       "COMMENT  *** Column formats ***                                                 \n",
       "COMMENT                                                                         \n",
       "TFORM1  = 'I       '           /                                                \n",
       "TFORM2  = 'J       '           /                                                \n",
       "TFORM3  = 'I       '           /                                                \n",
       "TFORM4  = 'D       '           /                                                \n",
       "TFORM5  = 'D       '           /                                                \n",
       "TFORM6  = 'D       '           /                                                \n",
       "TFORM7  = 'E       '           /                                                \n",
       "TFORM8  = 'E       '           /                                                \n",
       "TFORM9  = 'E       '           /                                                \n",
       "TFORM10 = 'E       '           /                                                \n",
       "TFORM11 = 'E       '           /                                                \n",
       "TFORM12 = 'E       '           /                                                \n",
       "TFORM13 = 'E       '           /                                                \n",
       "TFORM14 = 'E       '           /                                                \n",
       "TFORM15 = 'E       '           /                                                \n",
       "TFORM16 = 'E       '           /                                                \n",
       "TFORM17 = 'E       '           /                                                \n",
       "TFORM18 = 'E       '           /                                                \n",
       "TFORM19 = 'E       '           /                                                \n",
       "TFORM20 = 'E       '           /                                                \n",
       "TFORM21 = 'E       '           /                                                \n",
       "TFORM22 = 'E       '           /                                                \n",
       "TFORM23 = 'E       '           /                                                \n",
       "TFORM24 = 'E       '           /                                                \n",
       "TFORM25 = 'E       '           /                                                \n",
       "TFORM26 = 'E       '           /                                                \n",
       "TFORM27 = 'E       '           /                                                \n",
       "TFORM28 = 'E       '           /                                                \n",
       "TFORM29 = 'E       '           /                                                \n",
       "TFORM30 = 'E       '           /                                                \n",
       "TFORM31 = 'E       '           /                                                \n",
       "TFORM32 = 'E       '           /                                                \n",
       "TFORM33 = 'E       '           /                                                \n",
       "TFORM34 = 'E       '           /                                                \n",
       "TFORM35 = 'E       '           /                                                \n",
       "TFORM36 = 'E       '           /                                                \n",
       "TFORM37 = 'E       '           /                                                \n",
       "TFORM38 = 'E       '           /                                                \n",
       "TFORM39 = 'E       '           /                                                \n",
       "TFORM40 = 'E       '           /                                                \n",
       "TFORM41 = 'E       '           /                                                \n",
       "TFORM42 = 'E       '           /                                                \n",
       "TFORM43 = 'E       '           /                                                \n",
       "TFORM44 = 'E       '           /                                                \n",
       "TFORM45 = 'E       '           /                                                \n",
       "TFORM46 = 'E       '           /                                                \n",
       "TFORM47 = 'E       '           /                                                \n",
       "TFORM48 = 'E       '           /                                                \n",
       "TFORM49 = 'E       '           /                                                \n",
       "TFORM50 = 'E       '           /                                                \n",
       "TFORM51 = 'E       '           /                                                \n",
       "TFORM52 = 'E       '           /                                                \n",
       "TFORM53 = 'E       '           /                                                \n",
       "TFORM54 = 'E       '           /                                                \n",
       "TFORM55 = 'E       '           /                                                \n",
       "TFORM56 = 'E       '           /                                                \n",
       "TFORM57 = 'E       '           /                                                \n",
       "TFORM58 = 'E       '           /                                                \n",
       "TFORM59 = 'E       '           /                                                \n",
       "TFORM60 = 'E       '           /                                                \n",
       "TFORM61 = 'E       '           /                                                \n",
       "TFORM62 = 'E       '           /                                                \n",
       "TFORM63 = 'E       '           /                                                \n",
       "TFORM64 = 'E       '           /                                                \n",
       "TFORM65 = 'E       '           /                                                \n",
       "TFORM66 = 'E       '           /                                                \n",
       "TFORM67 = 'E       '           /                                                \n",
       "TFORM68 = 'E       '           /                                                \n",
       "TFORM69 = 'E       '           /                                                \n",
       "TFORM70 = 'E       '           /                                                \n",
       "TFORM71 = 'E       '           /                                                \n",
       "TFORM72 = 'E       '           /                                                \n",
       "TFORM73 = 'E       '           /                                                \n",
       "TFORM74 = 'E       '           /                                                \n",
       "TFORM75 = 'E       '           /                                                \n",
       "TFORM76 = 'E       '           /                                                \n",
       "TFORM77 = 'E       '           /                                                \n",
       "TFORM78 = 'E       '           /                                                \n",
       "TFORM79 = 'E       '           /                                                \n",
       "TFORM80 = 'E       '           /                                                \n",
       "TFORM81 = 'E       '           /                                                \n",
       "TFORM82 = 'E       '           /                                                "
      ]
     },
     "execution_count": 5,
     "metadata": {},
     "output_type": "execute_result"
    }
   ],
   "source": [
    "hdu[1].header"
   ]
  },
  {
   "cell_type": "code",
   "execution_count": 6,
   "metadata": {},
   "outputs": [],
   "source": [
    "# Defining variables\n",
    "ha = hdu[1].data['H_ALPHA_FLUX'].tolist()\n",
    "ha_err = hdu[1].data['H_ALPHA_FLUX_ERR'].tolist()\n",
    "hb = hdu[1].data['H_BETA_FLUX'].tolist()\n",
    "hb_err = hdu[1].data['H_BETA_FLUX_ERR'].tolist()\n",
    "o3 = hdu[1].data['OIII_5007_FLUX'].tolist()\n",
    "o3_err = hdu[1].data['OIII_5007_FLUX_ERR'].tolist()\n",
    "n2 = hdu[1].data['NII_6584_FLUX'].tolist()\n",
    "n2_err = hdu[1].data['NII_6584_FLUX_ERR'].tolist()\n",
    "\n",
    "hb_ew = hdu[1].data['H_BETA_EW'].tolist()\n",
    "hb_ew_err = hdu[1].data['H_BETA_EW_ERR'].tolist()\n",
    "\n",
    "z = hdu[1].data['Z'].tolist()\n",
    "\n",
    "plate = hdu[1].data['PLATE'].tolist()\n",
    "mjd = hdu[1].data['MJD'].tolist()\n",
    "fiber = hdu[1].data['FIBER'].tolist()"
   ]
  },
  {
   "cell_type": "code",
   "execution_count": 7,
   "metadata": {},
   "outputs": [],
   "source": [
    "# create a dataframe w/the variables\n",
    "data_names = ['ha', 'ha_err', 'hb', 'hb_err', 'o3', 'o3_err', 'n2', 'n2_err', 'z', 'hb_ew', 'hb_ew_err', 'plate', 'mjd', 'fiber']\n",
    "data_dict = {'ha':ha, 'ha_err':ha_err, 'hb':hb, 'hb_err':hb_err, 'o3':o3, 'o3_err':o3_err, 'n2':n2, 'n2_err':n2_err, 'hb_ew':hb_ew, 'hb_ew_err':hb_ew_err, 'z':z, 'plate':plate, 'mjd':mjd, 'fiber':fiber}\n",
    "df = pd.DataFrame(data_dict)"
   ]
  },
  {
   "cell_type": "code",
   "execution_count": 8,
   "metadata": {},
   "outputs": [],
   "source": [
    "for name in data_names: \n",
    "    df = df.loc[df[name].notnull()]"
   ]
  },
  {
   "cell_type": "code",
   "execution_count": 9,
   "metadata": {},
   "outputs": [],
   "source": [
    "# making SNR cuts\n",
    "df = df.loc[(df['ha']/df['ha_err']) > 3]\n",
    "df = df.loc[(df['hb']/df['hb_err']) > 3]\n",
    "df = df.loc[(df['o3']/df['o3_err']) > 3]\n",
    "df = df.loc[(df['n2']/df['n2_err']) > 3]"
   ]
  },
  {
   "cell_type": "code",
   "execution_count": 10,
   "metadata": {},
   "outputs": [],
   "source": [
    "df1 = df.query('z > 0.3 & z <= 0.4')"
   ]
  },
  {
   "cell_type": "code",
   "execution_count": 11,
   "metadata": {},
   "outputs": [
    {
     "name": "stdout",
     "output_type": "stream",
     "text": [
      "0.3509855270385742\n"
     ]
    }
   ],
   "source": [
    "print(df1.loc[:,\"z\"].median())"
   ]
  },
  {
   "cell_type": "code",
   "execution_count": 12,
   "metadata": {},
   "outputs": [
    {
     "name": "stdout",
     "output_type": "stream",
     "text": [
      "9.594248047420201 Gyr\n"
     ]
    }
   ],
   "source": [
    "print(cosmo.age(0.3509855270385742))"
   ]
  },
  {
   "cell_type": "code",
   "execution_count": 13,
   "metadata": {},
   "outputs": [],
   "source": [
    "def z_zero_kewl_line():\n",
    "    x = np.linspace(-2, 0, 500)\n",
    "    y = 0.61/(x-0.02)+1.2\n",
    "    return x, y\n",
    "\n",
    "def agn_classification_line_mod():\n",
    "    x = np.linspace(-2, 0, 500)\n",
    "    y = (0.61/(x-0.02-0.1833*(df1.loc[:,\"z\"].median())))+1.4+0.03*(df1.loc[:,\"z\"].median())\n",
    "    return x, y"
   ]
  },
  {
   "cell_type": "code",
   "execution_count": 14,
   "metadata": {},
   "outputs": [],
   "source": [
    "def low_met_agn(df1): \n",
    "    x_values = df1.x.values\n",
    "    y_values = df1.y.values.tolist()\n",
    "    \n",
    "    z_1 = df1['z'].values\n",
    "    ha_1 = df1['ha'].values\n",
    "    ha_err_1 = df1['ha_err'].values\n",
    "    hb_1 = df1['hb'].values\n",
    "    hb_err_1 = df1['hb_err'].values\n",
    "    o3_1 = df1['o3'].values\n",
    "    o3_err_1 = df1['o3_err'].values\n",
    "    n2_1 = df1['n2'].values\n",
    "    n2_err_1 = df1['n2_err'].values\n",
    "    hb_ew_1 = df1['hb_ew'].values\n",
    "    hb_ew_err_1 = df1['hb_ew_err'].values\n",
    "    \n",
    "    plate_1 = df1['plate'].values\n",
    "    mjd_1 = df1['mjd'].values\n",
    "    fiber_1 = df1['fiber'].values\n",
    "    \n",
    "    kewl_agn_class_line_mod = (0.61/(x_values-0.02-0.1833*(df1.loc[:,\"z\"].median())))+1.4+0.03*(df1.loc[:,\"z\"].median())\n",
    "    \n",
    "    df1 = []\n",
    "    \n",
    "    for x, y, agn_line in zip(x_values, y_values, kewl_agn_class_line_mod):\n",
    "        if x < -0.8 and y > agn_line:\n",
    "            df1.append('lowmetagn')\n",
    "        elif x >=-0.8 and y > agn_line:\n",
    "            df1.append('agn')\n",
    "        elif x > 0.0:\n",
    "            df1.append('agn')\n",
    "        else: \n",
    "            df1.append('starform')\n",
    "            \n",
    "    return df1, ha_1, ha_err_1, hb_1, hb_err_1, n2_1, n2_err_1, o3_1, o3_err_1, z_1, hb_ew_1, hb_ew_err_1, plate_1, mjd_1, fiber_1"
   ]
  },
  {
   "cell_type": "code",
   "execution_count": 15,
   "metadata": {},
   "outputs": [
    {
     "name": "stderr",
     "output_type": "stream",
     "text": [
      "/Users/quinncasey/anaconda3/lib/python3.7/site-packages/ipykernel_launcher.py:1: SettingWithCopyWarning: \n",
      "A value is trying to be set on a copy of a slice from a DataFrame.\n",
      "Try using .loc[row_indexer,col_indexer] = value instead\n",
      "\n",
      "See the caveats in the documentation: https://pandas.pydata.org/pandas-docs/stable/user_guide/indexing.html#returning-a-view-versus-a-copy\n",
      "  \"\"\"Entry point for launching an IPython kernel.\n",
      "/Users/quinncasey/anaconda3/lib/python3.7/site-packages/ipykernel_launcher.py:2: SettingWithCopyWarning: \n",
      "A value is trying to be set on a copy of a slice from a DataFrame.\n",
      "Try using .loc[row_indexer,col_indexer] = value instead\n",
      "\n",
      "See the caveats in the documentation: https://pandas.pydata.org/pandas-docs/stable/user_guide/indexing.html#returning-a-view-versus-a-copy\n",
      "  \n"
     ]
    }
   ],
   "source": [
    "df1['x'] = np.log10(df1['n2']/df1['ha'])\n",
    "df1['y'] = np.log10(df1['o3']/df1['hb'])\n",
    "\n",
    "df2 = low_met_agn(df1)"
   ]
  },
  {
   "cell_type": "code",
   "execution_count": 16,
   "metadata": {},
   "outputs": [],
   "source": [
    "df2 = pd.DataFrame(df2)\n",
    "df2 = df2.transpose()"
   ]
  },
  {
   "cell_type": "code",
   "execution_count": 17,
   "metadata": {},
   "outputs": [],
   "source": [
    "df2.columns = ['Type', 'ha', 'ha_err', 'hb', 'hb_err', 'n2', 'n2_err', 'o3', 'o3_err', 'z', 'hb_ew', 'hb_ew_err', 'plate', 'mjd', 'fiber']"
   ]
  },
  {
   "cell_type": "code",
   "execution_count": 18,
   "metadata": {},
   "outputs": [],
   "source": [
    "dfagn = df2[df2.Type != 'starform']\n",
    "dfsf = df2[df2.Type != 'agn']\n",
    "dflowmetagn = df2[df2.Type != 'agn']\n",
    "\n",
    "dfagn = dfagn[dfagn.Type != 'lowmetagn']\n",
    "dfsf = dfsf[dfsf.Type != 'lowmetagn']\n",
    "dflowmetagn = dflowmetagn[dflowmetagn.Type != 'starform']"
   ]
  },
  {
   "cell_type": "code",
   "execution_count": 19,
   "metadata": {},
   "outputs": [
    {
     "name": "stdout",
     "output_type": "stream",
     "text": [
      "5148\n",
      "8303\n",
      "5\n"
     ]
    }
   ],
   "source": [
    "print(len(dfagn))\n",
    "print(len(dfsf))\n",
    "print(len(dflowmetagn))"
   ]
  },
  {
   "cell_type": "code",
   "execution_count": 20,
   "metadata": {},
   "outputs": [],
   "source": [
    "def plot_bpt(nii,halpha,oiii,hbeta,nii2,halpha2,oiii2,hbeta2,nii3,halpha3,oiii3,hbeta3,fig=None,**kwargs):\n",
    "    halpha=np.array(halpha,dtype=float)\n",
    "    halpha2=np.array(halpha2,dtype=float)\n",
    "    halpha3=np.array(halpha3, dtype=float)\n",
    "    nii=np.array(nii,dtype=float)\n",
    "    nii2=np.array(nii2,dtype=float)\n",
    "    nii3=np.array(nii3,dtype=float)\n",
    "    hbeta=np.array(hbeta,dtype=float)\n",
    "    hbeta2=np.array(hbeta2,dtype=float)\n",
    "    hbeta3=np.array(hbeta3,dtype=float)\n",
    "    oiii=np.array(oiii,dtype=float)\n",
    "    oiii2=np.array(oiii2,dtype=float)\n",
    "    oiii3=np.array(oiii3,dtype=float)\n",
    "    n2ha=np.log10(nii/halpha)\n",
    "    o3hb=np.log10(oiii/hbeta)\n",
    "    n2ha2=np.log10(nii2/halpha2)\n",
    "    o3hb2=np.log10(oiii2/hbeta2)\n",
    "    n2ha3=np.log10(nii3/halpha3)\n",
    "    o3hb3=np.log10(oiii3/hbeta3)\n",
    "    \n",
    "    plt.style.use('grayscale')\n",
    "    \n",
    "    starform = plt.scatter(n2ha,o3hb, c='dimgray', s=1, **kwargs)\n",
    "    low_met_agn = plt.scatter(n2ha2,o3hb2, c='r', s=5, **kwargs)\n",
    "    agn = plt.scatter(n2ha3,o3hb3, c='slategray', s=1, **kwargs)\n",
    "    \n",
    "    agn_class=agn_classification_line_mod()\n",
    "    z_zero = z_zero_kewl_line()\n",
    "    #plotting the mixing line\n",
    "    mix=plt.plot([-0.466, 0.003], [-0.408, 0.979], c='r')\n",
    "    agn_0=plt.plot(agn_class[0], agn_class[1], c='b')\n",
    "    agn_1=plt.plot(z_zero[0], z_zero[1], c='coral', linestyle='--')\n",
    "    \n",
    "    plt.xlim(-2.0,0.75)\n",
    "    plt.ylim(-1.25,1.75)\n",
    "    plt.legend([starform, low_met_agn, agn], ['Star Forming (N=8303)', 'Low Metallicity AGNs (N=5)', 'AGNs (N=5148)'], bbox_to_anchor=(1.05, 1), loc='upper left', borderaxespad=0.)\n",
    "    plt.title('Median Z~0.351 -- Universe 9.59 Gyr Old')\n",
    "    plt.xlabel(r'$log_{10}($[NII]/h$\\alpha)$')\n",
    "    plt.ylabel(r'$log_{10}($[OIII]/h$\\beta)$')\n",
    "    plt.show()\n",
    "    return"
   ]
  },
  {
   "cell_type": "code",
   "execution_count": 21,
   "metadata": {},
   "outputs": [
    {
     "data": {
      "image/png": "[encoded data removed]",
      "text/plain": [
       "<Figure size 432x288 with 1 Axes>"
      ]
     },
     "metadata": {},
     "output_type": "display_data"
    }
   ],
   "source": [
    "halpha = dfsf['ha'].values\n",
    "halpha2 = dflowmetagn['ha'].values\n",
    "halpha3 = dfagn['ha'].values\n",
    "hbeta = dfsf['hb'].values\n",
    "hbeta2 = dflowmetagn['hb'].values\n",
    "hbeta3 = dfagn['hb'].values\n",
    "nii = dfsf['n2'].values\n",
    "nii2 = dflowmetagn['n2'].values\n",
    "nii3 = dfagn['n2'].values\n",
    "oiii = dfsf['o3'].values\n",
    "oiii2 = dflowmetagn['o3'].values\n",
    "oiii3 = dfagn['o3'].values\n",
    "\n",
    "plot_bpt(nii, halpha, oiii, hbeta, nii2, halpha2, oiii2, hbeta2, nii3, halpha3, oiii3, hbeta3, alpha = .5)"
   ]
  },
  {
   "cell_type": "code",
   "execution_count": 22,
   "metadata": {},
   "outputs": [],
   "source": [
    "def low_met_agn_and_sf(df1): \n",
    "    x_values = df1.x.values\n",
    "    y_values = df1.y.values.tolist()\n",
    "    \n",
    "    z_2 = df1['z'].values\n",
    "    ha_2 = df1['ha'].values\n",
    "    ha_err_2 = df1['ha_err'].values\n",
    "    hb_2 = df1['hb'].values\n",
    "    hb_err_2 = df1['hb_err'].values\n",
    "    o3_2 = df1['o3'].values\n",
    "    o3_err_2 = df1['o3_err'].values\n",
    "    n2_2 = df1['n2'].values\n",
    "    n2_err_2 = df1['n2_err'].values\n",
    "    hb_ew_2 = df1['hb_ew'].values\n",
    "    hb_ew_err_2 = df1['hb_ew_err'].values\n",
    "    \n",
    "    plate_2 = df1['plate'].values\n",
    "    mjd_2 = df1['mjd'].values\n",
    "    fiber_2 = df1['fiber'].values\n",
    "    \n",
    "    kewl_agn_class_line_mod = (0.61/(x_values-0.02-0.1833*(df1.loc[:,\"z\"].median())))+1.4+0.03*(df1.loc[:,\"z\"].median())\n",
    "    \n",
    "    df1 = []\n",
    "    \n",
    "    for x, y, agn_line in zip(x_values, y_values, kewl_agn_class_line_mod):\n",
    "        if x < -0.8 and y > agn_line:\n",
    "            df1.append('low-metallicity-agn')\n",
    "        elif x >=-0.8 and y > agn_line:\n",
    "            df1.append('agn')\n",
    "        elif x > 0.0:\n",
    "            df1.append('agn')\n",
    "        elif x < -0.8 and y < agn_line: \n",
    "            df1.append('starform-less-0.8')\n",
    "        else: \n",
    "            df1.append('starform')\n",
    "            \n",
    "    return df1, ha_2, ha_err_2, hb_2, hb_err_2, n2_2, n2_err_2, o3_2, o3_err_2, z_2, hb_ew_2, hb_ew_err_2, plate_2, mjd_2, fiber_2"
   ]
  },
  {
   "cell_type": "code",
   "execution_count": 23,
   "metadata": {},
   "outputs": [
    {
     "name": "stderr",
     "output_type": "stream",
     "text": [
      "/Users/quinncasey/anaconda3/lib/python3.7/site-packages/ipykernel_launcher.py:1: SettingWithCopyWarning: \n",
      "A value is trying to be set on a copy of a slice from a DataFrame.\n",
      "Try using .loc[row_indexer,col_indexer] = value instead\n",
      "\n",
      "See the caveats in the documentation: https://pandas.pydata.org/pandas-docs/stable/user_guide/indexing.html#returning-a-view-versus-a-copy\n",
      "  \"\"\"Entry point for launching an IPython kernel.\n",
      "/Users/quinncasey/anaconda3/lib/python3.7/site-packages/ipykernel_launcher.py:2: SettingWithCopyWarning: \n",
      "A value is trying to be set on a copy of a slice from a DataFrame.\n",
      "Try using .loc[row_indexer,col_indexer] = value instead\n",
      "\n",
      "See the caveats in the documentation: https://pandas.pydata.org/pandas-docs/stable/user_guide/indexing.html#returning-a-view-versus-a-copy\n",
      "  \n"
     ]
    }
   ],
   "source": [
    "df1['x'] = np.log10(df1['n2']/df1['ha'])\n",
    "df1['y'] = np.log10(df1['o3']/df1['hb'])\n",
    "\n",
    "df3 = low_met_agn_and_sf(df1)"
   ]
  },
  {
   "cell_type": "code",
   "execution_count": 24,
   "metadata": {},
   "outputs": [],
   "source": [
    "df3 = pd.DataFrame(df3)\n",
    "df3 = df3.transpose()"
   ]
  },
  {
   "cell_type": "code",
   "execution_count": 25,
   "metadata": {},
   "outputs": [],
   "source": [
    "df3.columns = ['Type', 'ha', 'ha_err', 'hb', 'hb_err', 'n2', 'n2_err', 'o3', 'o3_err', 'z', 'hb_ew', 'hb_ew_err', 'plate', 'mjd', 'fiber']"
   ]
  },
  {
   "cell_type": "code",
   "execution_count": 26,
   "metadata": {},
   "outputs": [],
   "source": [
    "df_agn = df3[df3.Type != 'starform']\n",
    "df_low_met_agn = df3[df3.Type != 'agn']\n",
    "df_starform = df3[df3.Type != 'agn']\n",
    "df_starform_less = df3[df3.Type != 'agn']\n",
    "\n",
    "df_starform = df_starform[df_starform.Type != 'low-metallicity-agn']\n",
    "df_starform_less = df_starform_less[df_starform_less.Type != 'starform']\n",
    "df_low_met_agn = df_low_met_agn[df_low_met_agn.Type != 'starform']\n",
    "df_agn = df_agn[df_agn.Type != 'low-metallicity-agn']\n",
    "\n",
    "df_starform_less = df_starform_less[df_starform_less.Type != 'low-metallicity-agn']\n",
    "df_low_met_agn = df_low_met_agn[df_low_met_agn.Type != 'starform-less-0.8']\n",
    "df_starform = df_starform[df_starform.Type != 'starform-less-0.8']\n",
    "df_agn = df_agn[df_agn.Type != 'starform-less-0.8']"
   ]
  },
  {
   "cell_type": "code",
   "execution_count": 27,
   "metadata": {},
   "outputs": [
    {
     "name": "stdout",
     "output_type": "stream",
     "text": [
      "5\n",
      "5782\n",
      "5148\n",
      "2521\n"
     ]
    }
   ],
   "source": [
    "print(len(df_low_met_agn))\n",
    "print(len(df_starform))\n",
    "print(len(df_agn))\n",
    "print(len(df_starform_less))"
   ]
  },
  {
   "cell_type": "code",
   "execution_count": 28,
   "metadata": {},
   "outputs": [],
   "source": [
    "def plot_bpt2(nii, halpha, oiii, hbeta, nii2, halpha2, oiii2, hbeta2, nii3, halpha3, oiii3, hbeta3, nii4, halpha4, oiii4, hbeta4, fig=None, **kwargs):\n",
    "    halpha=np.array(halpha,dtype=float)\n",
    "    halpha2=np.array(halpha2,dtype=float)\n",
    "    halpha3=np.array(halpha3, dtype=float)\n",
    "    halpha4=np.array(halpha4, dtype=float)\n",
    "    nii=np.array(nii,dtype=float)\n",
    "    nii2=np.array(nii2,dtype=float)\n",
    "    nii3=np.array(nii3,dtype=float)\n",
    "    nii4=np.array(nii4, dtype=float)\n",
    "    hbeta=np.array(hbeta,dtype=float)\n",
    "    hbeta2=np.array(hbeta2,dtype=float)\n",
    "    hbeta3=np.array(hbeta3,dtype=float)\n",
    "    hbeta4=np.array(hbeta4, dtype=float)\n",
    "    oiii=np.array(oiii,dtype=float)\n",
    "    oiii2=np.array(oiii2,dtype=float)\n",
    "    oiii3=np.array(oiii3,dtype=float)\n",
    "    oiii4=np.array(oiii4, dtype=float)\n",
    "    n2ha=np.log10(nii/halpha)\n",
    "    o3hb=np.log10(oiii/hbeta)\n",
    "    n2ha2=np.log10(nii2/halpha2)\n",
    "    o3hb2=np.log10(oiii2/hbeta2)\n",
    "    n2ha3=np.log10(nii3/halpha3)\n",
    "    o3hb3=np.log10(oiii3/hbeta3)\n",
    "    n2ha4=np.log10(nii4/halpha4)\n",
    "    o3hb4=np.log10(oiii4/hbeta4)\n",
    "    \n",
    "    plt.style.use('grayscale')\n",
    "    \n",
    "    starform = plt.scatter(n2ha,o3hb, c='dimgray', s=1, **kwargs)\n",
    "    low_met_agn = plt.scatter(n2ha2,o3hb2, c='r', s=5, **kwargs)\n",
    "    agn = plt.scatter(n2ha3,o3hb3, c='slategray', s=1, **kwargs)\n",
    "    starform_less_than = plt.scatter(n2ha4, o3hb4, c='b', s=1, **kwargs)\n",
    "    \n",
    "    agn_class=agn_classification_line_mod()\n",
    "    z_zero = z_zero_kewl_line()\n",
    "    #plotting the mixing line\n",
    "    mix=plt.plot([-0.466, 0.003], [-0.408, 0.979], c='r')\n",
    "    agn_0=plt.plot(agn_class[0], agn_class[1], c='b')\n",
    "    agn_1=plt.plot(z_zero[0], z_zero[1], c='coral', linestyle='--')\n",
    "    \n",
    "    plt.xlim(-2.0,0.75)\n",
    "    plt.ylim(-1.25,1.75)\n",
    "    plt.legend([starform, low_met_agn, agn, starform_less_than], ['Starforming (N=5782)', 'Low Metallicity AGNs (N=5)', 'AGNs (N=5148)', 'Starforming x < -0.8 (N=2521)'], bbox_to_anchor=(1.05, 1), loc='upper left', borderaxespad=0.)\n",
    "    plt.title('Median Z~0.351 -- Universe 9.59 Gyr Old')\n",
    "    plt.xlabel(r'$log_{10}($[NII]/h$\\alpha)$')\n",
    "    plt.ylabel(r'$log_{10}($[OIII]/h$\\beta)$')\n",
    "    plt.show()\n",
    "    return"
   ]
  },
  {
   "cell_type": "code",
   "execution_count": 29,
   "metadata": {},
   "outputs": [
    {
     "data": {
      "image/png": "[encoded data removed]",
      "text/plain": [
       "<Figure size 432x288 with 1 Axes>"
      ]
     },
     "metadata": {},
     "output_type": "display_data"
    }
   ],
   "source": [
    "halpha = df_starform['ha'].values\n",
    "halpha2 = df_low_met_agn['ha'].values\n",
    "halpha3 = df_agn['ha'].values\n",
    "halpha4 = df_starform_less['ha'].values\n",
    "hbeta = df_starform['hb'].values\n",
    "hbeta2 = df_low_met_agn['hb'].values\n",
    "hbeta3 = df_agn['hb'].values\n",
    "hbeta4 = df_starform_less['hb'].values\n",
    "nii = df_starform['n2'].values\n",
    "nii2 = df_low_met_agn['n2'].values\n",
    "nii3 = df_agn['n2'].values\n",
    "nii4 = df_starform_less['n2'].values\n",
    "oiii = df_starform['o3'].values\n",
    "oiii2 = df_low_met_agn['o3'].values\n",
    "oiii3 = df_agn['o3'].values\n",
    "oiii4 = df_starform_less['o3'].values\n",
    "\n",
    "plot_bpt2(nii, halpha, oiii, hbeta, nii2, halpha2, oiii2, hbeta2, nii3, halpha3, oiii3, hbeta3, nii4, halpha4, oiii4, hbeta4, alpha = .5)"
   ]
  },
  {
   "cell_type": "code",
   "execution_count": 30,
   "metadata": {},
   "outputs": [],
   "source": [
    "# finding hb equivalent width for sf galaxies with x < -0.8\n",
    "hb_ew_2 = df_starform_less['hb_ew'].values\n",
    "hb_ew_err_2 = df_starform_less['hb_ew_err'].values\n",
    "hb_ew_3 = ((hb_ew_2)/(hb_ew_err_2))"
   ]
  },
  {
   "cell_type": "code",
   "execution_count": 31,
   "metadata": {},
   "outputs": [
    {
     "name": "stdout",
     "output_type": "stream",
     "text": [
      "37.08674940427535\n"
     ]
    }
   ],
   "source": [
    "# finding hb equivalent width for sf galaxies with x < -0.8\n",
    "print(stats.median(hb_ew_3))"
   ]
  },
  {
   "cell_type": "code",
   "execution_count": 32,
   "metadata": {},
   "outputs": [],
   "source": [
    "df5 = df_low_met_agn.drop(columns=['Type', 'ha', 'ha_err', 'hb', 'hb_err', 'n2', 'n2_err', 'o3', 'o3_err', 'z', 'hb_ew', 'hb_ew_err'])"
   ]
  },
  {
   "cell_type": "code",
   "execution_count": 33,
   "metadata": {},
   "outputs": [],
   "source": [
    "df5['plate2'] = df5['plate']"
   ]
  },
  {
   "cell_type": "code",
   "execution_count": 34,
   "metadata": {},
   "outputs": [],
   "source": [
    "df5['spec'] = '/spec'\n",
    "df5['extension'] = '.fits'"
   ]
  },
  {
   "cell_type": "code",
   "execution_count": 35,
   "metadata": {},
   "outputs": [
    {
     "data": {
      "text/html": [
       "<div>\n",
       "<style scoped>\n",
       "    .dataframe tbody tr th:only-of-type {\n",
       "        vertical-align: middle;\n",
       "    }\n",
       "\n",
       "    .dataframe tbody tr th {\n",
       "        vertical-align: top;\n",
       "    }\n",
       "\n",
       "    .dataframe thead th {\n",
       "        text-align: right;\n",
       "    }\n",
       "</style>\n",
       "<table border=\"1\" class=\"dataframe\">\n",
       "  <thead>\n",
       "    <tr style=\"text-align: right;\">\n",
       "      <th></th>\n",
       "      <th>plate</th>\n",
       "      <th>spec</th>\n",
       "      <th>plate2</th>\n",
       "      <th>mjd</th>\n",
       "      <th>fiber</th>\n",
       "      <th>extension</th>\n",
       "    </tr>\n",
       "  </thead>\n",
       "  <tbody>\n",
       "    <tr>\n",
       "      <th>3478</th>\n",
       "      <td>4697</td>\n",
       "      <td>/spec</td>\n",
       "      <td>4697</td>\n",
       "      <td>55660</td>\n",
       "      <td>618</td>\n",
       "      <td>.fits</td>\n",
       "    </tr>\n",
       "    <tr>\n",
       "      <th>4345</th>\n",
       "      <td>5166</td>\n",
       "      <td>/spec</td>\n",
       "      <td>5166</td>\n",
       "      <td>56065</td>\n",
       "      <td>372</td>\n",
       "      <td>.fits</td>\n",
       "    </tr>\n",
       "    <tr>\n",
       "      <th>9213</th>\n",
       "      <td>7378</td>\n",
       "      <td>/spec</td>\n",
       "      <td>7378</td>\n",
       "      <td>56715</td>\n",
       "      <td>693</td>\n",
       "      <td>.fits</td>\n",
       "    </tr>\n",
       "    <tr>\n",
       "      <th>10681</th>\n",
       "      <td>7906</td>\n",
       "      <td>/spec</td>\n",
       "      <td>7906</td>\n",
       "      <td>57333</td>\n",
       "      <td>843</td>\n",
       "      <td>.fits</td>\n",
       "    </tr>\n",
       "    <tr>\n",
       "      <th>12063</th>\n",
       "      <td>8522</td>\n",
       "      <td>/spec</td>\n",
       "      <td>8522</td>\n",
       "      <td>58193</td>\n",
       "      <td>474</td>\n",
       "      <td>.fits</td>\n",
       "    </tr>\n",
       "  </tbody>\n",
       "</table>\n",
       "</div>"
      ],
      "text/plain": [
       "      plate   spec plate2    mjd fiber extension\n",
       "3478   4697  /spec   4697  55660   618     .fits\n",
       "4345   5166  /spec   5166  56065   372     .fits\n",
       "9213   7378  /spec   7378  56715   693     .fits\n",
       "10681  7906  /spec   7906  57333   843     .fits\n",
       "12063  8522  /spec   8522  58193   474     .fits"
      ]
     },
     "execution_count": 35,
     "metadata": {},
     "output_type": "execute_result"
    }
   ],
   "source": [
    "df5[['plate', 'spec', 'plate2', 'mjd', 'fiber', 'extension']]"
   ]
  },
  {
   "cell_type": "code",
   "execution_count": 36,
   "metadata": {},
   "outputs": [],
   "source": [
    "cols = ['plate', 'spec']\n",
    "df5['combined'] = df5[cols].apply(lambda row: ''.join(row.values.astype(str)), axis=1)"
   ]
  },
  {
   "cell_type": "code",
   "execution_count": 37,
   "metadata": {},
   "outputs": [],
   "source": [
    "cols2 = ['plate2', 'mjd', 'fiber']\n",
    "df5['combined2'] = df5[cols2].apply(lambda row: '-'.join(row.values.astype(str)), axis=1)"
   ]
  },
  {
   "cell_type": "code",
   "execution_count": 38,
   "metadata": {},
   "outputs": [],
   "source": [
    "cols3 = ['combined2', 'extension']\n",
    "df5['combined3'] = df5[cols3].apply(lambda row: ''.join(row.values.astype(str)), axis=1)"
   ]
  },
  {
   "cell_type": "code",
   "execution_count": 39,
   "metadata": {},
   "outputs": [],
   "source": [
    "cols4 = ['combined', 'combined3']\n",
    "df5['combined4'] = df5[cols4].apply(lambda row: '-'.join(row.values.astype(str)), axis=1)"
   ]
  },
  {
   "cell_type": "code",
   "execution_count": 40,
   "metadata": {},
   "outputs": [],
   "source": [
    "df5 = df5.drop(columns=['plate', 'mjd', 'fiber', 'plate2', 'spec', 'extension', 'combined', 'combined2', 'combined3'])"
   ]
  },
  {
   "cell_type": "code",
   "execution_count": 41,
   "metadata": {},
   "outputs": [
    {
     "data": {
      "text/html": [
       "<div>\n",
       "<style scoped>\n",
       "    .dataframe tbody tr th:only-of-type {\n",
       "        vertical-align: middle;\n",
       "    }\n",
       "\n",
       "    .dataframe tbody tr th {\n",
       "        vertical-align: top;\n",
       "    }\n",
       "\n",
       "    .dataframe thead th {\n",
       "        text-align: right;\n",
       "    }\n",
       "</style>\n",
       "<table border=\"1\" class=\"dataframe\">\n",
       "  <thead>\n",
       "    <tr style=\"text-align: right;\">\n",
       "      <th></th>\n",
       "      <th>combined4</th>\n",
       "    </tr>\n",
       "  </thead>\n",
       "  <tbody>\n",
       "    <tr>\n",
       "      <th>3478</th>\n",
       "      <td>4697/spec-4697-55660-618.fits</td>\n",
       "    </tr>\n",
       "    <tr>\n",
       "      <th>4345</th>\n",
       "      <td>5166/spec-5166-56065-372.fits</td>\n",
       "    </tr>\n",
       "    <tr>\n",
       "      <th>9213</th>\n",
       "      <td>7378/spec-7378-56715-693.fits</td>\n",
       "    </tr>\n",
       "    <tr>\n",
       "      <th>10681</th>\n",
       "      <td>7906/spec-7906-57333-843.fits</td>\n",
       "    </tr>\n",
       "    <tr>\n",
       "      <th>12063</th>\n",
       "      <td>8522/spec-8522-58193-474.fits</td>\n",
       "    </tr>\n",
       "  </tbody>\n",
       "</table>\n",
       "</div>"
      ],
      "text/plain": [
       "                           combined4\n",
       "3478   4697/spec-4697-55660-618.fits\n",
       "4345   5166/spec-5166-56065-372.fits\n",
       "9213   7378/spec-7378-56715-693.fits\n",
       "10681  7906/spec-7906-57333-843.fits\n",
       "12063  8522/spec-8522-58193-474.fits"
      ]
     },
     "execution_count": 41,
     "metadata": {},
     "output_type": "execute_result"
    }
   ],
   "source": [
    "df5"
   ]
  },
  {
   "cell_type": "code",
   "execution_count": 42,
   "metadata": {},
   "outputs": [],
   "source": [
    "# df5.to_csv('eboss-0.3-speclist-2-less.txt', header=None, index=None, sep=' ', mode='a')"
   ]
  },
  {
   "cell_type": "code",
   "execution_count": null,
   "metadata": {},
   "outputs": [],
   "source": []
  }
 ],
 "metadata": {
  "kernelspec": {
   "display_name": "Python 3",
   "language": "python",
   "name": "python3"
  },
  "language_info": {
   "codemirror_mode": {
    "name": "ipython",
    "version": 3
   },
   "file_extension": ".py",
   "mimetype": "text/x-python",
   "name": "python",
   "nbconvert_exporter": "python",
   "pygments_lexer": "ipython3",
   "version": "3.7.3"
  }
 },
 "nbformat": 4,
 "nbformat_minor": 4
}
